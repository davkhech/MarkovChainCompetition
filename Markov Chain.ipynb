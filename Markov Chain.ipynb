{
 "cells": [
  {
   "cell_type": "code",
   "execution_count": null,
   "metadata": {
    "collapsed": true
   },
   "outputs": [],
   "source": [
    "import time\n",
    "import numpy as np\n",
    "import pylab\n",
    "import matplotlib.pyplot as plt\n",
    "import pandas as pd\n",
    "import math\n",
    "from IPython.display import Image\n",
    "\n",
    "%matplotlib inline"
   ]
  },
  {
   "cell_type": "code",
   "execution_count": null,
   "metadata": {
    "collapsed": true
   },
   "outputs": [],
   "source": [
    "orders = pd.read_csv('./orders.csv')"
   ]
  },
  {
   "cell_type": "code",
   "execution_count": null,
   "metadata": {},
   "outputs": [],
   "source": [
    "orders.head(13)"
   ]
  },
  {
   "cell_type": "code",
   "execution_count": null,
   "metadata": {},
   "outputs": [],
   "source": [
    "order_product = pd.read_csv('./order_products__prior.csv', index_col='order_id')"
   ]
  },
  {
   "cell_type": "code",
   "execution_count": null,
   "metadata": {},
   "outputs": [],
   "source": [
    "order_product.head(10)"
   ]
  },
  {
   "cell_type": "markdown",
   "metadata": {},
   "source": [
    "prediction of basket size"
   ]
  },
  {
   "cell_type": "code",
   "execution_count": null,
   "metadata": {
    "collapsed": true
   },
   "outputs": [],
   "source": [
    "user_len = max(orders['user_id'])"
   ]
  },
  {
   "cell_type": "code",
   "execution_count": null,
   "metadata": {
    "scrolled": true
   },
   "outputs": [],
   "source": [
    "t = 0\n",
    "i = 0\n",
    "bask_len = []\n",
    "for user_id in range(1, user_len + 1):\n",
    "    user_orders = orders[orders['user_id'] == user_id]['order_id'][:-1].values\n",
    "    prod = 0\n",
    "    user = 0\n",
    "    for user_order in user_orders:\n",
    "        \n",
    "        tmp = order_product.loc[user_order]['product_id']\n",
    "        y = len(tmp.values) if type(tmp) is pd.core.series.Series else 1\n",
    "        x = np.array(orders.loc[orders['order_id'] == user_order]\n",
    "                     [['order_dow', 'order_hour_of_day', 'days_since_prior_order']])[0]\n",
    "        if user != 0 :\n",
    "            bask_len.append(np.concatenate((x,[prod/user,y])))\n",
    "        prod+=y\n",
    "        user+=1\n",
    "        i+=1 \n",
    "#break when we dont have all the time\n",
    "#     if i > 40000:\n",
    "#         break\n",
    "    t+=1\n",
    "    if t%100==0:\n",
    "        print(t)  "
   ]
  },
  {
   "cell_type": "code",
   "execution_count": null,
   "metadata": {
    "collapsed": true
   },
   "outputs": [],
   "source": [
    "bask_len = np.array(bask_len)"
   ]
  },
  {
   "cell_type": "code",
   "execution_count": null,
   "metadata": {
    "collapsed": true
   },
   "outputs": [],
   "source": [
    "bask_len = bask_len[~np.isnan(bask_len).any(axis=1)]"
   ]
  },
  {
   "cell_type": "code",
   "execution_count": null,
   "metadata": {
    "collapsed": true
   },
   "outputs": [],
   "source": [
    "data = bask_len[:,[0,1,2,3]]"
   ]
  },
  {
   "cell_type": "code",
   "execution_count": null,
   "metadata": {
    "collapsed": true
   },
   "outputs": [],
   "source": [
    "labels  = bask_len[:,4]"
   ]
  },
  {
   "cell_type": "code",
   "execution_count": null,
   "metadata": {
    "collapsed": true
   },
   "outputs": [],
   "source": [
    "test = data[2900000:]\n",
    "test_labels = labels[2900000:]"
   ]
  },
  {
   "cell_type": "code",
   "execution_count": null,
   "metadata": {
    "collapsed": true
   },
   "outputs": [],
   "source": [
    "train = data[:2900000]\n",
    "tr_labels  =labels[:2900000]"
   ]
  },
  {
   "cell_type": "code",
   "execution_count": null,
   "metadata": {},
   "outputs": [],
   "source": [
    "np.var(labels)"
   ]
  },
  {
   "cell_type": "code",
   "execution_count": null,
   "metadata": {
    "collapsed": true
   },
   "outputs": [],
   "source": [
    "from sklearn.neural_network import MLPRegressor, MLPClassifier"
   ]
  },
  {
   "cell_type": "code",
   "execution_count": null,
   "metadata": {
    "collapsed": true
   },
   "outputs": [],
   "source": [
    "cls = MLPRegressor(hidden_layer_sizes=(100,100 ))"
   ]
  },
  {
   "cell_type": "code",
   "execution_count": null,
   "metadata": {},
   "outputs": [],
   "source": [
    "cls.fit(train, tr_labels)"
   ]
  },
  {
   "cell_type": "code",
   "execution_count": null,
   "metadata": {
    "collapsed": true
   },
   "outputs": [],
   "source": [
    "predicted = cls.predict(test)"
   ]
  },
  {
   "cell_type": "code",
   "execution_count": null,
   "metadata": {},
   "outputs": [],
   "source": [
    "np.mean(np.abs(predicted - test_labels))"
   ]
  },
  {
   "cell_type": "code",
   "execution_count": null,
   "metadata": {},
   "outputs": [],
   "source": [
    "predicted, test_labels"
   ]
  },
  {
   "cell_type": "code",
   "execution_count": null,
   "metadata": {},
   "outputs": [],
   "source": [
    "plt.plot(predicted[:100])\n",
    "plt.plot(test_labels[:100])"
   ]
  },
  {
   "cell_type": "code",
   "execution_count": null,
   "metadata": {
    "collapsed": true
   },
   "outputs": [],
   "source": [
    "# load mean baskets of users for compare with new model\n",
    "mean_b = np.load('mean_basket.npy')"
   ]
  },
  {
   "cell_type": "code",
   "execution_count": null,
   "metadata": {
    "collapsed": true
   },
   "outputs": [],
   "source": [
    "for_predict = []"
   ]
  },
  {
   "cell_type": "code",
   "execution_count": null,
   "metadata": {
    "scrolled": true
   },
   "outputs": [],
   "source": [
    "t = 0\n",
    "mean_basket = np.zeros(user_len + 1, dtype=np.int16)\n",
    "\n",
    "my_orders = orders[orders['eval_set'] != 'prior']\n",
    "for index,row in my_orders.iterrows():\n",
    "    user_id = row['user_id']\n",
    "    x = np.array(list(row)[4:] + [mean_b[user_id]]).reshape(1,4)\n",
    "    mean_basket[user_id] =cls.predict(x)\n",
    "    t+=1\n",
    "    \n",
    "    if t%1000==0:\n",
    "        print(t)   "
   ]
  },
  {
   "cell_type": "code",
   "execution_count": null,
   "metadata": {},
   "outputs": [],
   "source": [
    "np.mean(np.abs(mean_basket-mean_b))"
   ]
  },
  {
   "cell_type": "markdown",
   "metadata": {},
   "source": [
    "Markov chain"
   ]
  },
  {
   "cell_type": "code",
   "execution_count": null,
   "metadata": {
    "collapsed": true
   },
   "outputs": [],
   "source": [
    "product_len = max(order_product['product_id'])"
   ]
  },
  {
   "cell_type": "code",
   "execution_count": null,
   "metadata": {
    "collapsed": true
   },
   "outputs": [],
   "source": [
    "# init of transaction matrix\n",
    "transaction = np.zeros(product_len ** 2, dtype=np.float16).reshape(product_len,product_len)"
   ]
  },
  {
   "cell_type": "code",
   "execution_count": null,
   "metadata": {
    "collapsed": true
   },
   "outputs": [],
   "source": [
    "num_prod = np.zeros(product_len)"
   ]
  },
  {
   "cell_type": "code",
   "execution_count": null,
   "metadata": {
    "collapsed": true,
    "scrolled": false
   },
   "outputs": [],
   "source": [
    "# markov chains transaction matrix\n",
    "t = 0\n",
    "\n",
    "for user in range(1, user_len+1):\n",
    "    baskets = []\n",
    "    order_ids = orders_by_users.loc[user_id]['order_id'].values\n",
    "    \n",
    "    for order_id in order_ids:\n",
    "        products = order_product.loc[order_id]['product_id']\n",
    "        products = np.array(products) if type(products) is pd.core.series.Series else np.array([products])\n",
    "        baskets.append(products)  \n",
    "\n",
    "    for ind_bas in range(len(baskets)-1):\n",
    "        for ind_pr, product in enumerate(baskets[ind_bas]):\n",
    "            num_prod[product-1] +=1\n",
    "            for next_product in baskets[ind_bas+1]:\n",
    "                transaction[product-1][next_product-1] += 1    \n",
    "    t+=1\n",
    "    if t%1000==0:\n",
    "        print(t)    "
   ]
  },
  {
   "cell_type": "code",
   "execution_count": null,
   "metadata": {
    "collapsed": true
   },
   "outputs": [],
   "source": [
    "for index, prod_transaction in enumerate(transaction):\n",
    "    transaction[index] = transaction[index]/num_prod[index]\n"
   ]
  },
  {
   "cell_type": "code",
   "execution_count": null,
   "metadata": {
    "collapsed": true
   },
   "outputs": [],
   "source": [
    "transaction.shape"
   ]
  },
  {
   "cell_type": "code",
   "execution_count": null,
   "metadata": {
    "collapsed": true
   },
   "outputs": [],
   "source": [
    "# mean basket of user, for first step we will assume that basket size will be the mean size of all user's basket\n",
    "t = 0\n",
    "mean_basket = np.zeros(user_len + 1, dtype=np.int16)\n",
    "for user_id in range(1, user_len + 1):\n",
    "    user_orders = orders[orders['user_id'] == user_id]['order_id'][:-1].values\n",
    "    prods = 0\n",
    "    for user_order in user_orders:\n",
    "        tmp = order_product.loc[user_order]['product_id']\n",
    "        prods += len(tmp.values) if type(tmp) is pd.core.series.Series else 1\n",
    "    mean_basket[user_id] = prods / len(user_orders)\n",
    "    t+=1\n",
    "    if t%1000==0:\n",
    "        print(t)   "
   ]
  },
  {
   "cell_type": "code",
   "execution_count": null,
   "metadata": {
    "collapsed": true
   },
   "outputs": [],
   "source": [
    "training_points = orders[orders['eval_set'] == 'test']\n",
    "ids = training_points.index"
   ]
  },
  {
   "cell_type": "code",
   "execution_count": null,
   "metadata": {
    "collapsed": true
   },
   "outputs": [],
   "source": [
    "# read each user's products\n",
    "dmp = np.arange(0, len(transaction) + 1, 1)\n",
    "user_all_products = {}\n",
    "for _id in range(user_len + 1):\n",
    "    user_all_products[str(_id)] = dmp\n",
    "with open('user_unique_products.csv', 'r') as f:\n",
    "    for line in f:\n",
    "        _id, prods = line.split(',')\n",
    "        user_all_products[_id] = np.array([int(x) for x in prods.split(' ')])"
   ]
  },
  {
   "cell_type": "code",
   "execution_count": null,
   "metadata": {
    "scrolled": true
   },
   "outputs": [],
   "source": [
    "# predict\n",
    "%%time\n",
    "t = 0\n",
    "with open('submission.csv', 'w') as f:\n",
    "    f.write('order_id,products\\n')\n",
    "    for _id in ids:\n",
    "        unique_prods = user_all_products[str(orders.loc[_id]['user_id'])] - 1\n",
    "        last_basket_products = order_product.loc[orders.loc[_id - 1]['order_id']]['product_id'] - 1\n",
    "        last_basket_products = np.array(last_basket_products) if type(last_basket_products) is pd.core.series.Series else np.array([last_basket_products])\n",
    "        \n",
    "        prob_sum = np.sum(transaction[last_basket_products, :], axis=0)\n",
    "        cids = np.where(prob_sum > 0)[0]\n",
    "        cids = np.intersect1d(cids, unique_prods)\n",
    "        pred = pd.DataFrame(data={'id': cids, 'p': prob_sum[cids]})\n",
    "        \n",
    "        mb = mean_basket[orders[orders['order_id'] == _id]['user_id'].values[0]]\n",
    "        top = pred.sort_values('p')[-mb:]\n",
    "                \n",
    "        f.write(str(orders.loc[_id]['order_id']))\n",
    "        f.write(',')\n",
    "        if len(cids) > 5000:\n",
    "            f.write('None')\n",
    "        else:\n",
    "            f.write(str(top['id'].values + 1)[1:-1])\n",
    "        f.write('\\n')\n",
    "        \n",
    "        t+=1\n",
    "        if t%1000==0:\n",
    "            print(t)"
   ]
  },
  {
   "cell_type": "code",
   "execution_count": null,
   "metadata": {
    "collapsed": true
   },
   "outputs": [],
   "source": [
    "# afterprocessing for submission \n",
    "with open('submission.csv', 'r') as f:\n",
    "    with open('sub_sub.csv', 'w') as g:\n",
    "        for line in f:\n",
    "            if ',' in line:\n",
    "                g.write('\\n')\n",
    "            g.write(line[:-1])\n",
    "        g.write('\\n')"
   ]
  }
 ],
 "metadata": {
  "kernelspec": {
   "display_name": "Python 2",
   "language": "python",
   "name": "python2"
  },
  "language_info": {
   "codemirror_mode": {
    "name": "ipython",
    "version": 2
   },
   "file_extension": ".py",
   "mimetype": "text/x-python",
   "name": "python",
   "nbconvert_exporter": "python",
   "pygments_lexer": "ipython2",
   "version": "2.7.13"
  }
 },
 "nbformat": 4,
 "nbformat_minor": 2
}
