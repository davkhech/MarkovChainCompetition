{
 "cells": [
  {
   "cell_type": "markdown",
   "metadata": {},
   "source": [
    "Implementation of the paper"
   ]
  },
  {
   "cell_type": "code",
   "execution_count": 1,
   "metadata": {
    "collapsed": true
   },
   "outputs": [],
   "source": [
    "import numpy as np\n",
    "import pandas as pd\n",
    "import pickle\n",
    "from scipy.special import expit"
   ]
  },
  {
   "cell_type": "code",
   "execution_count": 3,
   "metadata": {},
   "outputs": [
    {
     "data": {
      "text/html": [
       "<div>\n",
       "<style>\n",
       "    .dataframe thead tr:only-child th {\n",
       "        text-align: right;\n",
       "    }\n",
       "\n",
       "    .dataframe thead th {\n",
       "        text-align: left;\n",
       "    }\n",
       "\n",
       "    .dataframe tbody tr th {\n",
       "        vertical-align: top;\n",
       "    }\n",
       "</style>\n",
       "<table border=\"1\" class=\"dataframe\">\n",
       "  <thead>\n",
       "    <tr style=\"text-align: right;\">\n",
       "      <th></th>\n",
       "      <th>order_id</th>\n",
       "      <th>user_id</th>\n",
       "      <th>eval_set</th>\n",
       "      <th>order_number</th>\n",
       "      <th>order_dow</th>\n",
       "      <th>order_hour_of_day</th>\n",
       "      <th>days_since_prior_order</th>\n",
       "    </tr>\n",
       "  </thead>\n",
       "  <tbody>\n",
       "    <tr>\n",
       "      <th>0</th>\n",
       "      <td>2539329</td>\n",
       "      <td>1</td>\n",
       "      <td>prior</td>\n",
       "      <td>1</td>\n",
       "      <td>2</td>\n",
       "      <td>8</td>\n",
       "      <td>NaN</td>\n",
       "    </tr>\n",
       "    <tr>\n",
       "      <th>1</th>\n",
       "      <td>2398795</td>\n",
       "      <td>1</td>\n",
       "      <td>prior</td>\n",
       "      <td>2</td>\n",
       "      <td>3</td>\n",
       "      <td>7</td>\n",
       "      <td>15.0</td>\n",
       "    </tr>\n",
       "    <tr>\n",
       "      <th>2</th>\n",
       "      <td>473747</td>\n",
       "      <td>1</td>\n",
       "      <td>prior</td>\n",
       "      <td>3</td>\n",
       "      <td>3</td>\n",
       "      <td>12</td>\n",
       "      <td>21.0</td>\n",
       "    </tr>\n",
       "    <tr>\n",
       "      <th>3</th>\n",
       "      <td>2254736</td>\n",
       "      <td>1</td>\n",
       "      <td>prior</td>\n",
       "      <td>4</td>\n",
       "      <td>4</td>\n",
       "      <td>7</td>\n",
       "      <td>29.0</td>\n",
       "    </tr>\n",
       "    <tr>\n",
       "      <th>4</th>\n",
       "      <td>431534</td>\n",
       "      <td>1</td>\n",
       "      <td>prior</td>\n",
       "      <td>5</td>\n",
       "      <td>4</td>\n",
       "      <td>15</td>\n",
       "      <td>28.0</td>\n",
       "    </tr>\n",
       "  </tbody>\n",
       "</table>\n",
       "</div>"
      ],
      "text/plain": [
       "   order_id  user_id eval_set  order_number  order_dow  order_hour_of_day  \\\n",
       "0   2539329        1    prior             1          2                  8   \n",
       "1   2398795        1    prior             2          3                  7   \n",
       "2    473747        1    prior             3          3                 12   \n",
       "3   2254736        1    prior             4          4                  7   \n",
       "4    431534        1    prior             5          4                 15   \n",
       "\n",
       "   days_since_prior_order  \n",
       "0                     NaN  \n",
       "1                    15.0  \n",
       "2                    21.0  \n",
       "3                    29.0  \n",
       "4                    28.0  "
      ]
     },
     "execution_count": 3,
     "metadata": {},
     "output_type": "execute_result"
    }
   ],
   "source": [
    "orders = pd.read_csv('orders.csv')\n",
    "orders.head()"
   ]
  },
  {
   "cell_type": "code",
   "execution_count": 4,
   "metadata": {},
   "outputs": [
    {
     "data": {
      "text/html": [
       "<div>\n",
       "<style>\n",
       "    .dataframe thead tr:only-child th {\n",
       "        text-align: right;\n",
       "    }\n",
       "\n",
       "    .dataframe thead th {\n",
       "        text-align: left;\n",
       "    }\n",
       "\n",
       "    .dataframe tbody tr th {\n",
       "        vertical-align: top;\n",
       "    }\n",
       "</style>\n",
       "<table border=\"1\" class=\"dataframe\">\n",
       "  <thead>\n",
       "    <tr style=\"text-align: right;\">\n",
       "      <th></th>\n",
       "      <th>order_id</th>\n",
       "      <th>product_id</th>\n",
       "      <th>add_to_cart_order</th>\n",
       "      <th>reordered</th>\n",
       "    </tr>\n",
       "  </thead>\n",
       "  <tbody>\n",
       "    <tr>\n",
       "      <th>0</th>\n",
       "      <td>2</td>\n",
       "      <td>33120</td>\n",
       "      <td>1</td>\n",
       "      <td>1</td>\n",
       "    </tr>\n",
       "    <tr>\n",
       "      <th>1</th>\n",
       "      <td>2</td>\n",
       "      <td>28985</td>\n",
       "      <td>2</td>\n",
       "      <td>1</td>\n",
       "    </tr>\n",
       "    <tr>\n",
       "      <th>2</th>\n",
       "      <td>2</td>\n",
       "      <td>9327</td>\n",
       "      <td>3</td>\n",
       "      <td>0</td>\n",
       "    </tr>\n",
       "    <tr>\n",
       "      <th>3</th>\n",
       "      <td>2</td>\n",
       "      <td>45918</td>\n",
       "      <td>4</td>\n",
       "      <td>1</td>\n",
       "    </tr>\n",
       "    <tr>\n",
       "      <th>4</th>\n",
       "      <td>2</td>\n",
       "      <td>30035</td>\n",
       "      <td>5</td>\n",
       "      <td>0</td>\n",
       "    </tr>\n",
       "  </tbody>\n",
       "</table>\n",
       "</div>"
      ],
      "text/plain": [
       "   order_id  product_id  add_to_cart_order  reordered\n",
       "0         2       33120                  1          1\n",
       "1         2       28985                  2          1\n",
       "2         2        9327                  3          0\n",
       "3         2       45918                  4          1\n",
       "4         2       30035                  5          0"
      ]
     },
     "execution_count": 4,
     "metadata": {},
     "output_type": "execute_result"
    }
   ],
   "source": [
    "order_products = pd.read_csv('order_products__prior.csv')\n",
    "order_products.head()"
   ]
  },
  {
   "cell_type": "code",
   "execution_count": 5,
   "metadata": {},
   "outputs": [
    {
     "data": {
      "text/html": [
       "<div>\n",
       "<style>\n",
       "    .dataframe thead tr:only-child th {\n",
       "        text-align: right;\n",
       "    }\n",
       "\n",
       "    .dataframe thead th {\n",
       "        text-align: left;\n",
       "    }\n",
       "\n",
       "    .dataframe tbody tr th {\n",
       "        vertical-align: top;\n",
       "    }\n",
       "</style>\n",
       "<table border=\"1\" class=\"dataframe\">\n",
       "  <thead>\n",
       "    <tr style=\"text-align: right;\">\n",
       "      <th></th>\n",
       "      <th>order_id</th>\n",
       "      <th>product_id</th>\n",
       "      <th>add_to_cart_order</th>\n",
       "      <th>reordered</th>\n",
       "    </tr>\n",
       "  </thead>\n",
       "  <tbody>\n",
       "    <tr>\n",
       "      <th>0</th>\n",
       "      <td>1</td>\n",
       "      <td>49302</td>\n",
       "      <td>1</td>\n",
       "      <td>1</td>\n",
       "    </tr>\n",
       "    <tr>\n",
       "      <th>1</th>\n",
       "      <td>1</td>\n",
       "      <td>11109</td>\n",
       "      <td>2</td>\n",
       "      <td>1</td>\n",
       "    </tr>\n",
       "    <tr>\n",
       "      <th>2</th>\n",
       "      <td>1</td>\n",
       "      <td>10246</td>\n",
       "      <td>3</td>\n",
       "      <td>0</td>\n",
       "    </tr>\n",
       "    <tr>\n",
       "      <th>3</th>\n",
       "      <td>1</td>\n",
       "      <td>49683</td>\n",
       "      <td>4</td>\n",
       "      <td>0</td>\n",
       "    </tr>\n",
       "    <tr>\n",
       "      <th>4</th>\n",
       "      <td>1</td>\n",
       "      <td>43633</td>\n",
       "      <td>5</td>\n",
       "      <td>1</td>\n",
       "    </tr>\n",
       "  </tbody>\n",
       "</table>\n",
       "</div>"
      ],
      "text/plain": [
       "   order_id  product_id  add_to_cart_order  reordered\n",
       "0         1       49302                  1          1\n",
       "1         1       11109                  2          1\n",
       "2         1       10246                  3          0\n",
       "3         1       49683                  4          0\n",
       "4         1       43633                  5          1"
      ]
     },
     "execution_count": 5,
     "metadata": {},
     "output_type": "execute_result"
    }
   ],
   "source": [
    "order_products_train = pd.read_csv('order_products__train.csv')\n",
    "order_products_train.head()"
   ]
  },
  {
   "cell_type": "code",
   "execution_count": 6,
   "metadata": {
    "collapsed": true
   },
   "outputs": [],
   "source": [
    "mean_basket = np.load('mean_basket.npy')"
   ]
  },
  {
   "cell_type": "code",
   "execution_count": 7,
   "metadata": {
    "collapsed": true
   },
   "outputs": [],
   "source": [
    "user_products = pickle.load(open('user_prods.pkl', 'rb'))"
   ]
  },
  {
   "cell_type": "code",
   "execution_count": 18,
   "metadata": {
    "collapsed": true
   },
   "outputs": [],
   "source": [
    "# initializing matrix dimentsions and matrices from normal distribution\n",
    "U = 207000\n",
    "I = 50000\n",
    "Ku = 70\n",
    "Kl = 70"
   ]
  },
  {
   "cell_type": "code",
   "execution_count": 19,
   "metadata": {
    "collapsed": true
   },
   "outputs": [],
   "source": [
    "Vui = np.random.normal(size=(U, Ku), scale=0.2)\n",
    "Viu = np.random.normal(size=(I, Ku), scale=0.2)\n",
    "Vil = np.random.normal(size=(I, Kl), scale=0.2)\n",
    "Vli = np.random.normal(size=(I, Kl), scale=0.2)"
   ]
  },
  {
   "cell_type": "code",
   "execution_count": 11,
   "metadata": {
    "collapsed": true
   },
   "outputs": [],
   "source": [
    "# function to calculate the probability that user u will choose the item i if it's basket was Bt_1\n",
    "def predict(u, i, Vui, Viu, Vil, Vli, Bt_1):\n",
    "    return Vui[u, :].dot(Viu[i, :]) + np.sum(np.multiply(Vil[i, :], Vli[Bt_1, :])) / len(Bt_1)"
   ]
  },
  {
   "cell_type": "code",
   "execution_count": 12,
   "metadata": {
    "collapsed": true
   },
   "outputs": [],
   "source": [
    "def learn(Vui, Viu, Vil, Vli, alpha, lam, T):\n",
    "    global orders, order_products, order_products_train\n",
    "    user_ids    = orders['user_id'].unique()\n",
    "    user_orders = orders[orders['eval_set'] == 'prior'].set_index('user_id')\n",
    "    basket = order_products.set_index('order_id')\n",
    "        \n",
    "    for _ in range(T):\n",
    "        #randomly selecting user, his basket, the product that contains in the basket and product that doesn't contain\n",
    "        u = user = np.random.choice(user_ids)\n",
    "        u_ords = user_orders.loc[user]['order_id'].values\n",
    "        \n",
    "        rand_index = np.random.randint(low=1, high=user_orders.loc[user]['order_id'].values.shape[0])\n",
    "        t_1 = u_ords[rand_index - 1]\n",
    "        t = u_ords[rand_index]\n",
    "        \n",
    "        Bt_1 = basket.loc[t_1]['product_id']\n",
    "        Bt_1 = (Bt_1.values) if type(Bt_1) is pd.core.series.Series else np.array([Bt_1])\n",
    "        \n",
    "        Bt = basket.loc[t]['product_id']\n",
    "        Bt = (Bt.values) if type(Bt) is pd.core.series.Series else np.array([Bt])\n",
    "        \n",
    "        diff = np.setdiff1d(user_products[str(user)], Bt)\n",
    "        if len(diff) == 0:\n",
    "            continue\n",
    "            \n",
    "        i = np.random.choice(Bt)    \n",
    "        j = np.random.choice(diff)\n",
    "        \n",
    "        #calculating probabilities that user will choose the i'th and j'th\n",
    "        x = predict(user, i, Vui, Viu, Vil, Vli, Bt_1)\n",
    "        y = predict(user, j, Vui, Viu, Vil, Vli, Bt_1)\n",
    "        delta = 1 - expit(x - y)\n",
    "        \n",
    "        #updating matrices\n",
    "        Vui[u, :] = Vui[u, :] + alpha * (delta * (Viu[i, :] - Viu[j, :]) - lam * Vui[u, :])\n",
    "        Viu[i, :] = Viu[i, :] + alpha * (delta * Vui[u, :] - lam * Viu[i, :])\n",
    "        Viu[j, :] = Viu[j, :] - alpha * (delta * Vui[u, :] + lam * Viu[j, :])\n",
    "        \n",
    "        eta = np.sum(Vli[Bt_1, :], axis=0) / len(Bt_1)\n",
    "        Vil[i, :] = Vil[i, :] + alpha * (delta * eta - lam * Vil[i, :])\n",
    "        Vil[j, :] = Vil[j, :] - alpha * (delta * eta + lam * Vil[j, :])\n",
    "        Vli[Bt_1, :] = Vli[Bt_1, :] + alpha * (delta * (Vil[i, :] - Vil[j, :]) / len(Bt_1) - lam * Vli[Bt_1, :])\n",
    "    \n",
    "    return Vui, Viu, Vil, Vli"
   ]
  },
  {
   "cell_type": "code",
   "execution_count": 13,
   "metadata": {
    "collapsed": true
   },
   "outputs": [],
   "source": [
    "def vard(Vui, Viu, Vil, Vli, f):\n",
    "    f.write('order_id,products\\n')\n",
    "    global orders, order_products, order_products_train\n",
    "    \n",
    "    user_orders = orders[orders['eval_set'] == 'prior'].set_index('user_id')\n",
    "    user_test_orders = orders[orders['eval_set'] == 'test'].set_index('user_id')\n",
    "    user_ids = user_test_orders.index.values\n",
    "    basket = order_products.set_index('order_id')\n",
    "    t = 0\n",
    "    \n",
    "    for user in user_ids:\n",
    "        #for each user selecting it's last basket\n",
    "        u_ords = user_orders.loc[user]['order_id'].values\n",
    "        Bt_1 = basket.loc[u_ords[-1]]['product_id']\n",
    "        Bt_1 = (Bt_1.values) if type(Bt_1) is pd.core.series.Series else np.array([Bt_1])\n",
    "\n",
    "        #getting user's all products and calculate probability that user will choose for all of them\n",
    "        products = user_products[str(user)]\n",
    "        probs = np.zeros_like(products, dtype=np.float16)\n",
    "        for index, product in enumerate(products):\n",
    "            probs[index] = predict(user, product, Vui, Viu, Vil, Vli, Bt_1)\n",
    "            \n",
    "        #sort and get the product's with highest probabilities\n",
    "        df = pd.DataFrame(data={'id': products, 'prob': probs}).sort_values('prob')\n",
    "        \n",
    "        f.write(str(user_test_orders.loc[user]['order_id']))\n",
    "        f.write(',')\n",
    "        f.write(str(df['id'].values[-mean_basket[user]:])[1:-1])\n",
    "        f.write('\\n')\n",
    "        \n",
    "        t += 1\n",
    "        if t % 1000 == 0:\n",
    "            print(t)"
   ]
  },
  {
   "cell_type": "code",
   "execution_count": null,
   "metadata": {
    "collapsed": true
   },
   "outputs": [],
   "source": [
    "%%time\n",
    "Vui, Viu, Vil, Vli = learn(Vui, Viu, Vil, Vli, 0.3, 0.1, 20000000)"
   ]
  },
  {
   "cell_type": "code",
   "execution_count": null,
   "metadata": {
    "collapsed": true,
    "scrolled": true
   },
   "outputs": [],
   "source": [
    "%%time\n",
    "with open('submission_fmc5.csv', 'w') as f:\n",
    "    vard(Vui, Viu, Vil, Vli, f)"
   ]
  },
  {
   "cell_type": "code",
   "execution_count": 28,
   "metadata": {},
   "outputs": [
    {
     "data": {
      "text/plain": [
       "0"
      ]
     },
     "execution_count": 28,
     "metadata": {},
     "output_type": "execute_result"
    }
   ],
   "source": [
    "np.sum(np.isnan(Vui)) + np.sum(np.isnan(Viu)) + np.sum(np.isnan(Vil)) + np.sum(np.isnan(Vli))"
   ]
  },
  {
   "cell_type": "code",
   "execution_count": 31,
   "metadata": {
    "collapsed": true
   },
   "outputs": [],
   "source": [
    "np.save('Vui', Vui)\n",
    "np.save('Viu', Viu)\n",
    "np.save('Vil', Vil)\n",
    "np.save('Vli', Vli)"
   ]
  },
  {
   "cell_type": "code",
   "execution_count": null,
   "metadata": {
    "collapsed": true
   },
   "outputs": [],
   "source": []
  }
 ],
 "metadata": {
  "kernelspec": {
   "display_name": "Python 2",
   "language": "python",
   "name": "python2"
  },
  "language_info": {
   "codemirror_mode": {
    "name": "ipython",
    "version": 2
   },
   "file_extension": ".py",
   "mimetype": "text/x-python",
   "name": "python",
   "nbconvert_exporter": "python",
   "pygments_lexer": "ipython2",
   "version": "2.7.13"
  }
 },
 "nbformat": 4,
 "nbformat_minor": 2
}
